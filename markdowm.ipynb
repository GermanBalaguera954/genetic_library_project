{
 "cells": [
  {
   "cell_type": "markdown",
   "metadata": {},
   "source": [
    "# Genetic Library\n",
    "\n",
    "## ¿Qué es la librería \"Genetic Library\"?\n",
    "\n",
    "**Genetic Library** es una librería de Python diseñada para implementar algoritmos genéticos. Los algoritmos genéticos son algoritmos de optimización inspirados en los principios de la evolución natural, donde una población de soluciones evoluciona a lo largo de varias generaciones para mejorar en función de un objetivo (aptitud).\n",
    "\n",
    "Esta librería permite que los usuarios configuren, ejecuten y personalicen algoritmos genéticos para resolver problemas de optimización, como maximizar o minimizar funciones, optimizar redes neuronales, o encontrar la mejor solución en problemas combinatorios.\n",
    "\n",
    "## Funcionalidades principales\n",
    "\n",
    "1. **Selección**: Permite elegir entre los métodos de selección por **torneo** y **ruleta** para decidir qué individuos serán seleccionados para reproducirse.\n",
    "2. **Cruce**: Ofrece dos tipos de cruce: **un solo punto** y **dos puntos**, para mezclar las características de los padres y crear nuevos individuos.\n",
    "3. **Mutación**: Incluye dos tipos de mutación: **flip** (cambiar un 0 a 1 y viceversa) y **swap** (intercambiar genes entre dos posiciones).\n",
    "4. **Elitismo**: Asegura que el mejor cromosoma de cada generación pase a la siguiente sin cambios.\n",
    "5. **Flexibilidad**: El algoritmo es altamente configurable, permitiendo personalizar los parámetros del cruce, la mutación, la selección, y la cantidad de generaciones.\n",
    "\n",
    "## ¿Cómo funciona?\n",
    "\n",
    "### Paso 1: Definir la función de aptitud\n",
    "\n",
    "El usuario debe definir una función de aptitud que mida qué tan buena es cada solución (cromosoma). En el caso de un problema simple, la aptitud puede ser la suma de los valores en el cromosoma (número de 1s).\n",
    "\n",
    "def fitness_function(chromosome):\n",
    "    return sum(chromosome)\n",
    "\n",
    "### Paso 2: Crear una población inicial\n",
    "Se genera una población inicial de soluciones (cromosomas), representadas como listas de 0s y 1s.\n",
    "\n",
    "initial_population = [[random.randint(0, 1) for _ in range(6)] for _ in range(10)]\n",
    "\n",
    "### Paso 3: Configurar el algoritmo genético\n",
    "Se configura el algoritmo genético con los parámetros deseados: tipo de cruce, mutación, selección y si se quiere usar elitismo.\n",
    "\n",
    "ga = GeneticAlgorithm(\n",
    "    population=initial_population,\n",
    "    fitness_function=fitness_function,\n",
    "    crossover_type=\"two_point\",\n",
    "    mutation_type=\"swap\",\n",
    "    selection_type=\"roulette\",\n",
    "    elitism=True\n",
    ")\n",
    "\n",
    "### Paso 4: Ejecutar el algoritmo\n",
    "Se ejecuta el algoritmo por un número de generaciones para mejorar la aptitud de la población.\n",
    "\n",
    "ga.run(10)\n",
    "\n",
    "### Salida esperada:\n",
    "A lo largo de las generaciones, el algoritmo imprimirá la mejor solución encontrada y su aptitud:\n",
    "\n",
    "Mejor solución: [1, 1, 1, 1, 0, 1] con aptitud: 5\n",
    "Mejor solución: [1, 1, 1, 1, 1, 1] con aptitud: 6\n"
   ]
  }
 ],
 "metadata": {
  "language_info": {
   "name": "python"
  }
 },
 "nbformat": 4,
 "nbformat_minor": 2
}
